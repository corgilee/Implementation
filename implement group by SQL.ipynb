{
 "cells": [
  {
   "cell_type": "markdown",
   "metadata": {},
   "source": [
    "#### fb 一道 implement (类似tf-idf)"
   ]
  },
  {
   "cell_type": "markdown",
   "metadata": {},
   "source": [
    "#### 给了一个表格包含userid, src_url和dest_url\n",
    "print out the percentage of each dest_url within each userid, src_url\n",
    "\n",
    "不能用sql或者pandas group by, less iteration。\n",
    "\n",
    "\n",
    "我是用一个hash table嵌套一个hash table解的，\n",
    "\n",
    "要求从read file写到最后按格式print完整结果，虽然是白板但要求完全bug free，犯了几个错误面试官提示了一下改正了\n"
   ]
  },
  {
   "cell_type": "markdown",
   "metadata": {},
   "source": [
    "### 自己写的"
   ]
  },
  {
   "cell_type": "code",
   "execution_count": null,
   "metadata": {},
   "outputs": [],
   "source": [
    "\n",
    "matrix=[[\"1\",\"A\",\"B\"],[\"1\",\"B\",\"A\"],[\"1\",\"C\",\"A\"],[\"1\",\"C\",\"B\"],[\"1\",\"C\",\"D\"],[\"2\",\"B\",\"A\"],[\"2\",\"B\",\"C\"],[\"2\",\"D\",\"B\"]]\n",
    "\n",
    "matrix"
   ]
  },
  {
   "cell_type": "code",
   "execution_count": null,
   "metadata": {},
   "outputs": [],
   "source": [
    "\n",
    "def des_count(matrix):\n",
    "    count_list=[]\n",
    "    temp={}\n",
    "    m=len(matrix)\n",
    "    for i in range(m):\n",
    "        if (matrix[i][0],matrix[i][1]) not in temp:\n",
    "            temp[(matrix[i][0],matrix[i][1])]={}\n",
    "            temp[(matrix[i][0],matrix[i][1])][matrix[i][2]]=1\n",
    "        elif matrix[i][2] not in temp[(matrix[i][0],matrix[i][1])]:\n",
    "            temp[(matrix[i][0],matrix[i][1])][matrix[i][2]]=1\n",
    "        else:\n",
    "            temp[(matrix[i][0],matrix[i][1])][matrix[i][2]]+=1\n",
    "    return temp\n",
    "        \n",
    "        \n",
    "\n",
    "\n",
    "def scr_count(count):\n",
    "    scr={}\n",
    "    for key1,v1 in count.items():\n",
    "        _sum=0\n",
    "        for key2,v2  in count[key1].items():\n",
    "            _sum+=v2\n",
    "        scr[key1]=_sum\n",
    "    return scr\n",
    "\n",
    "\n",
    "\n",
    "\n",
    "\n",
    "\n",
    "def des_tf(scr_count,count2):\n",
    "    res=[]\n",
    "    for key, map2 in count2.items():\n",
    "        for map2_key, map2_val in map2.items():\n",
    "\n",
    "            ratio=map2_val/scr_count[key]\n",
    "            temp={\"id_scr\":key,\"des\":map2_key,\"Perc\":ratio}\n",
    "            res.append(temp)\n",
    "\n",
    "    return res\n",
    "\n",
    "\n",
    "\n"
   ]
  },
  {
   "cell_type": "code",
   "execution_count": null,
   "metadata": {},
   "outputs": [],
   "source": [
    "\n",
    "count2=des_freq(matrix)\n",
    "scr_count=scr_count(count2)\n",
    "des_tf(scr_count,count2)"
   ]
  }
 ],
 "metadata": {
  "kernelspec": {
   "display_name": "Python 3",
   "language": "python",
   "name": "python3"
  },
  "language_info": {
   "codemirror_mode": {
    "name": "ipython",
    "version": 3
   },
   "file_extension": ".py",
   "mimetype": "text/x-python",
   "name": "python",
   "nbconvert_exporter": "python",
   "pygments_lexer": "ipython3",
   "version": "3.6.5"
  }
 },
 "nbformat": 4,
 "nbformat_minor": 2
}
