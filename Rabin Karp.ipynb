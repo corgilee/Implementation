{
 "cells": [
  {
   "cell_type": "code",
   "execution_count": 15,
   "metadata": {},
   "outputs": [],
   "source": [
    "def Rabin_Karp_Matcher(text, pattern, d, q):\n",
    "    n = len(text)\n",
    "    m = len(pattern)\n",
    "    h = pow(d,m-1)%q\n",
    "    print(\"h:\",h)\n",
    "    p = 0\n",
    "    t = 0\n",
    "    result = []\n",
    "    for i in range(m): # preprocessing\n",
    "        p = (d*p+ord(pattern[i]))%q\n",
    "        t = (d*t+ord(text[i]))%q\n",
    "    for s in range(n-m+1): # note the +1\n",
    "        if p == t: # check character by character\n",
    "            match = True\n",
    "            for i in range(m):\n",
    "                if pattern[i] != text[s+i]:\n",
    "                    match = False\n",
    "                    break\n",
    "            if match:\n",
    "                result = result + [s]\n",
    "        if s < n-m:\n",
    "\n",
    "            t = (t-h*ord(text[s]))%q # remove letter s, the first digit always has h (pow(d,m-1)%q)\n",
    "            t = (t*d+ord(text[s+m]))%q # add letter s+m\n",
    "            t = (t+q)%q # make sure that t >= 0\n",
    "            print(\"t:\",t)\n",
    "    return result\n"
   ]
  },
  {
   "cell_type": "code",
   "execution_count": 16,
   "metadata": {},
   "outputs": [
    {
     "name": "stdout",
     "output_type": "stream",
     "text": [
      "h: 4\n",
      "t: 6\n",
      "t: 4\n",
      "t: 7\n",
      "t: 5\n",
      "t: 3\n",
      "t: 1\n",
      "t: 5\n",
      "t: 10\n",
      "t: 4\n",
      "t: 4\n",
      "t: 6\n",
      "t: 8\n",
      "t: 2\n",
      "t: 4\n",
      "[6]\n",
      "h: 40999999\n",
      "t: 920000252\n",
      "t: 920000252\n",
      "t: 920000252\n",
      "[0, 1, 2, 3]\n"
     ]
    }
   ],
   "source": [
    "print (Rabin_Karp_Matcher (\"3141592653589793\", \"26\", 257, 11))\n",
    "print (Rabin_Karp_Matcher (\"xxxxx\", \"xx\", 40999999, 999999937))"
   ]
  },
  {
   "cell_type": "code",
   "execution_count": null,
   "metadata": {},
   "outputs": [],
   "source": []
  },
  {
   "cell_type": "code",
   "execution_count": null,
   "metadata": {},
   "outputs": [],
   "source": []
  }
 ],
 "metadata": {
  "kernelspec": {
   "display_name": "Python 3",
   "language": "python",
   "name": "python3"
  },
  "language_info": {
   "codemirror_mode": {
    "name": "ipython",
    "version": 3
   },
   "file_extension": ".py",
   "mimetype": "text/x-python",
   "name": "python",
   "nbconvert_exporter": "python",
   "pygments_lexer": "ipython3",
   "version": "3.5.5"
  }
 },
 "nbformat": 4,
 "nbformat_minor": 2
}
