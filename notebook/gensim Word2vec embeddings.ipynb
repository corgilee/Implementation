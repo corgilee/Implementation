{
 "cells": [
  {
   "cell_type": "code",
   "execution_count": 0,
   "metadata": {
    "application/vnd.databricks.v1+cell": {
     "cellMetadata": {
      "byteLimit": 2048000,
      "rowLimit": 10000
     },
     "inputWidgets": {},
     "nuid": "7a70f51e-03fb-43a1-931a-b105a2f5c78e",
     "showTitle": false,
     "title": ""
    }
   },
   "outputs": [],
   "source": [
    "dbutils.library.restartPython()"
   ]
  },
  {
   "cell_type": "code",
   "execution_count": 0,
   "metadata": {
    "application/vnd.databricks.v1+cell": {
     "cellMetadata": {
      "byteLimit": 2048000,
      "rowLimit": 10000
     },
     "inputWidgets": {},
     "nuid": "9596ec38-4fe0-4dd9-a8a9-a384d827a99f",
     "showTitle": false,
     "title": ""
    }
   },
   "outputs": [],
   "source": [
    "import gensim\n",
    "import numpy as np\n",
    "from gensim.models import Word2Vec\n",
    "from gensim.test.utils import common_texts\n",
    "import pprint\n",
    "pp = pprint.PrettyPrinter(indent=4)\n",
    "\n",
    "#https://radimrehurek.com/gensim/models/word2vec.html"
   ]
  },
  {
   "cell_type": "code",
   "execution_count": 0,
   "metadata": {
    "application/vnd.databricks.v1+cell": {
     "cellMetadata": {
      "byteLimit": 2048000,
      "rowLimit": 10000
     },
     "inputWidgets": {},
     "nuid": "5bf452c9-bb9c-4a8a-89fd-709a807ecd41",
     "showTitle": false,
     "title": ""
    }
   },
   "outputs": [
    {
     "output_type": "stream",
     "name": "stdout",
     "output_type": "stream",
     "text": [
      "<class 'list'>\n9\n['human', 'interface', 'computer']\n"
     ]
    }
   ],
   "source": [
    "print(type(common_texts))\n",
    "print(len(common_texts))\n",
    "print(common_texts[0])\n",
    "\n"
   ]
  },
  {
   "cell_type": "code",
   "execution_count": 0,
   "metadata": {
    "application/vnd.databricks.v1+cell": {
     "cellMetadata": {
      "byteLimit": 2048000,
      "rowLimit": 10000
     },
     "inputWidgets": {},
     "nuid": "8e14afc0-79fd-435d-8f66-f87ec40cbc8a",
     "showTitle": false,
     "title": ""
    }
   },
   "outputs": [],
   "source": [
    "model = Word2Vec(sentences=common_texts, vector_size=10, window=5, min_count=1, workers=4)\n",
    "word_vectors = model.wv\n",
    "\n",
    "\n",
    "# build a dictionary for all the vocab and their embedding\n",
    "vocab_dict={}\n",
    "\n",
    "for key, val in word_vectors.key_to_index.items():\n",
    "    vocab_dict[key]=word_vectors[key]\n"
   ]
  },
  {
   "cell_type": "code",
   "execution_count": 0,
   "metadata": {
    "application/vnd.databricks.v1+cell": {
     "cellMetadata": {
      "byteLimit": 2048000,
      "rowLimit": 10000
     },
     "inputWidgets": {},
     "nuid": "0e0babf0-f02c-4a8d-837f-abb4ec35f198",
     "showTitle": false,
     "title": ""
    }
   },
   "outputs": [
    {
     "output_type": "stream",
     "name": "stdout",
     "output_type": "stream",
     "text": [
      "{   'computer': array([ 0.0163195 ,  0.00189972,  0.03474648,  0.00217841,  0.09621626,\n        0.05062076, -0.08919986, -0.0704361 ,  0.00901718,  0.06394394],\n      dtype=float32),\n    'eps': array([-0.08157917,  0.04495798, -0.04137076,  0.00824536,  0.08498619,\n       -0.04462177,  0.045175  , -0.0678696 , -0.03548489,  0.09398508],\n      dtype=float32),\n    'graph': array([ 0.07380505, -0.01533471, -0.04536613,  0.06554051, -0.0486016 ,\n       -0.01816018,  0.0287658 ,  0.00991874, -0.08285215, -0.09448818],\n      dtype=float32),\n    'human': array([-0.00410223, -0.08368949, -0.05600012,  0.07104538,  0.0335254 ,\n        0.0722567 ,  0.06800248,  0.07530741, -0.03789154, -0.00561806],\n      dtype=float32),\n    'interface': array([-0.08620311,  0.03665775,  0.05191636,  0.05741405,  0.07468785,\n       -0.06167011,  0.0110466 ,  0.0604545 , -0.02839937, -0.06172869],\n      dtype=float32),\n    'minors': array([-0.0960355 ,  0.05007293, -0.08759586, -0.04391825, -0.000351  ,\n       -0.00296181, -0.0766124 ,  0.09614743,  0.04982058,  0.09233143],\n      dtype=float32),\n    'response': array([ 0.05454978,  0.08346254, -0.01452547, -0.09208103,  0.04371992,\n        0.00571739,  0.07441536, -0.00813829, -0.02638551, -0.08753117],\n      dtype=float32),\n    'survey': array([-0.00856557,  0.02826563,  0.05401429,  0.07052656, -0.05703121,\n        0.0185882 ,  0.06088864, -0.04798051, -0.03107261,  0.0679763 ],\n      dtype=float32),\n    'system': array([-0.00536227,  0.00236431,  0.0510335 ,  0.09009273, -0.0930295 ,\n       -0.07116809,  0.06458873,  0.08972988, -0.05015428, -0.03763372],\n      dtype=float32),\n    'time': array([-0.01577653,  0.00321372, -0.0414063 , -0.07682689, -0.01508008,\n        0.02469795, -0.00888027,  0.05533662, -0.02742977,  0.02260065],\n      dtype=float32),\n    'trees': array([ 0.07311766,  0.05070262,  0.06757693,  0.00762866,  0.06350891,\n       -0.03405366, -0.00946401,  0.05768573, -0.07521638, -0.03936104],\n      dtype=float32),\n    'user': array([-0.07512736, -0.00929625,  0.09540468, -0.07319199, -0.02330569,\n       -0.01937236,  0.08075952, -0.05932656,  0.00045081, -0.04753184],\n      dtype=float32)}\n"
     ]
    }
   ],
   "source": [
    "\n",
    "  pp.pprint(vocab_dict)  "
   ]
  },
  {
   "cell_type": "code",
   "execution_count": 0,
   "metadata": {
    "application/vnd.databricks.v1+cell": {
     "cellMetadata": {},
     "inputWidgets": {},
     "nuid": "b9fe0401-b0e5-495c-9130-714969b58ede",
     "showTitle": false,
     "title": ""
    }
   },
   "outputs": [],
   "source": []
  }
 ],
 "metadata": {
  "application/vnd.databricks.v1+notebook": {
   "dashboards": [],
   "language": "python",
   "notebookMetadata": {
    "pythonIndentUnit": 4
   },
   "notebookName": "gesim Word2vec embeddings",
   "widgets": {}
  }
 },
 "nbformat": 4,
 "nbformat_minor": 0
}
