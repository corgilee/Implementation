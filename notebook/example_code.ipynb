{
 "cells": [
  {
   "cell_type": "code",
   "execution_count": null,
   "metadata": {},
   "outputs": [],
   "source": [
    "先把步骤讲出来，问问对方可不可以\n",
    "\n",
    "1. Data exploration\n",
    "    1. flag (positive rate, 一般可能是pos_rate 低的数据，后面要重点讨论 precision，recall，f1 score 和threshold，还有需不需要downsample）\n",
    "    2. check_missing_rate (decide if some variables need to be dropped)\n",
    "    3. data_type (numerical+categorical）\n",
    "2. Feature engineering\n",
    "    1. missing imputation (numerical data + categorical data)\n",
    "    2. categorical data transformation\n",
    "        1. check category high cardinal, if so, may use target encoding\n",
    "    3. scale (optional)\n",
    "3. Training data build up\n",
    "    1. split\n",
    "        1. 确认一下是否需要downsample negative \n",
    "4. Model training\n",
    "    1. (先讲一讲， logistic regression, random forest , gbm tree 区别）\n",
    "    2. model fit\n",
    "    3. feature importance\n",
    "    4. cross validation (optional)"
   ]
  },
  {
   "cell_type": "code",
   "execution_count": null,
   "metadata": {},
   "outputs": [],
   "source": [
    "import pandas as pd\n",
    "import numpy as np\n",
    "import seaborn as sns"
   ]
  }
 ],
 "metadata": {
  "language_info": {
   "name": "python"
  }
 },
 "nbformat": 4,
 "nbformat_minor": 2
}
